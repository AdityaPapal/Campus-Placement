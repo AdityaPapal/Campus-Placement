{
 "cells": [
  {
   "cell_type": "markdown",
   "id": "29fa898a",
   "metadata": {},
   "source": [
    "# Campus Placement Prediction"
   ]
  },
  {
   "cell_type": "code",
   "execution_count": 1,
   "id": "b03e7c55",
   "metadata": {},
   "outputs": [],
   "source": [
    "import pandas as pd\n",
    "import numpy as np\n",
    "import matplotlib.pyplot as plt\n",
    "%matplotlib inline"
   ]
  },
  {
   "cell_type": "code",
   "execution_count": 2,
   "id": "cb0a7347",
   "metadata": {},
   "outputs": [],
   "source": [
    "df = pd.read_csv(\"Dataset/main.csv\")"
   ]
  },
  {
   "cell_type": "code",
   "execution_count": 3,
   "id": "e2e68ffc",
   "metadata": {},
   "outputs": [],
   "source": [
    "df.head()"
   ]
  },
  {
   "cell_type": "code",
   "execution_count": 4,
   "id": "f35c8360",
   "metadata": {},
   "outputs": [],
   "source": [
    "df.shape"
   ]
  },
  {
   "cell_type": "code",
   "execution_count": 5,
   "id": "e36e1f9d",
   "metadata": {},
   "outputs": [],
   "source": [
    "df.info()"
   ]
  },
  {
   "cell_type": "code",
   "execution_count": 6,
   "id": "c1e81654",
   "metadata": {},
   "outputs": [],
   "source": [
    "df.isnull().sum()"
   ]
  },
  {
   "cell_type": "code",
   "execution_count": 7,
   "id": "2cb0930c",
   "metadata": {},
   "outputs": [],
   "source": [
    "df.drop(['salary','sl_no','ssc_b','hsc_b'], axis=1, inplace=True)"
   ]
  },
  {
   "cell_type": "code",
   "execution_count": 8,
   "id": "91545ff7",
   "metadata": {},
   "outputs": [],
   "source": [
    "df.isnull().sum()"
   ]
  },
  {
   "cell_type": "markdown",
   "id": "e3955001",
   "metadata": {},
   "source": [
    "## Encoding"
   ]
  },
  {
   "cell_type": "code",
   "execution_count": 9,
   "id": "4be988d5",
   "metadata": {},
   "outputs": [],
   "source": [
    "from sklearn.preprocessing import LabelEncoder\n",
    "encoder = LabelEncoder()"
   ]
  },
  {
   "cell_type": "code",
   "execution_count": 10,
   "id": "4eca2f80",
   "metadata": {},
   "outputs": [],
   "source": [
    "df[\"degree_t\"] = df[\"degree_t\"].astype('category')"
   ]
  },
  {
   "cell_type": "code",
   "execution_count": 11,
   "id": "3e6cd28c",
   "metadata": {},
   "outputs": [],
   "source": [
    "df[\"workex\"] = df[\"workex\"].astype('category')"
   ]
  },
  {
   "cell_type": "code",
   "execution_count": 12,
   "id": "bd98c09f",
   "metadata": {},
   "outputs": [],
   "source": [
    "df[\"specialisation\"] = df[\"specialisation\"].astype('category')"
   ]
  },
  {
   "cell_type": "code",
   "execution_count": 13,
   "id": "9262fc0f",
   "metadata": {},
   "outputs": [],
   "source": [
    "df[\"status\"] = df[\"status\"].astype('category')"
   ]
  },
  {
   "cell_type": "code",
   "execution_count": 14,
   "id": "c41ba646",
   "metadata": {},
   "outputs": [],
   "source": [
    "df[\"gender\"] = df[\"gender\"].astype('category')"
   ]
  },
  {
   "cell_type": "code",
   "execution_count": 15,
   "id": "24cdf05b",
   "metadata": {},
   "outputs": [],
   "source": [
    "df[\"hsc_s\"] = df[\"hsc_s\"].astype('category')"
   ]
  },
  {
   "cell_type": "code",
   "execution_count": 16,
   "id": "a9adf09d",
   "metadata": {},
   "outputs": [],
   "source": [
    "df[\"workex\"] = df[\"workex\"].cat.codes"
   ]
  },
  {
   "cell_type": "code",
   "execution_count": 17,
   "id": "68ccfe58",
   "metadata": {},
   "outputs": [],
   "source": [
    "df[\"gender\"] = df[\"gender\"].cat.codes"
   ]
  },
  {
   "cell_type": "code",
   "execution_count": 18,
   "id": "03600f8e",
   "metadata": {},
   "outputs": [],
   "source": [
    "df[\"degree_t\"] = df[\"degree_t\"].cat.codes"
   ]
  },
  {
   "cell_type": "code",
   "execution_count": 19,
   "id": "7d8ddff8",
   "metadata": {},
   "outputs": [],
   "source": [
    "df[\"specialisation\"] = df[\"specialisation\"].cat.codes"
   ]
  },
  {
   "cell_type": "code",
   "execution_count": 20,
   "id": "90cd540e",
   "metadata": {},
   "outputs": [],
   "source": [
    "df[\"status\"] = df[\"status\"].cat.codes"
   ]
  },
  {
   "cell_type": "code",
   "execution_count": 21,
   "id": "b166fd99",
   "metadata": {},
   "outputs": [],
   "source": [
    "df[\"hsc_s\"] = df[\"hsc_s\"].cat.codes"
   ]
  },
  {
   "cell_type": "code",
   "execution_count": 22,
   "id": "5eb05db0",
   "metadata": {},
   "outputs": [],
   "source": [
    "df.dtypes"
   ]
  },
  {
   "cell_type": "code",
   "execution_count": 23,
   "id": "b8a79e68",
   "metadata": {},
   "outputs": [],
   "source": [
    "df.head()"
   ]
  },
  {
   "cell_type": "code",
   "execution_count": 24,
   "id": "e586a100",
   "metadata": {},
   "outputs": [],
   "source": [
    "df.describe()"
   ]
  },
  {
   "cell_type": "markdown",
   "id": "884c1f23",
   "metadata": {},
   "source": [
    "## Checking for Outliers"
   ]
  },
  {
   "cell_type": "code",
   "execution_count": 25,
   "id": "f2359c0f",
   "metadata": {},
   "outputs": [],
   "source": [
    "import seaborn as sns\n",
    "fig, axs = plt.subplots(ncols=5,nrows=3,figsize=(20,10))\n",
    "index = 0\n",
    "axs = axs.flatten()\n",
    "for k,v in df.items():\n",
    "    sns.boxplot(y=v, ax=axs[index])\n",
    "    index+=1\n",
    "\n",
    "fig.delaxes(axs[index])\n",
    "plt.tight_layout(pad=0.3, w_pad=0.5,h_pad = 4.5) "
   ]
  },
  {
   "cell_type": "code",
   "execution_count": 26,
   "id": "a4880798",
   "metadata": {},
   "outputs": [],
   "source": [
    "# deleting some outliers in 2 columns degree_p and hsc_p\n",
    "df = df[~(df['degree_p']>=90)]\n",
    "df = df[~(df['hsc_p']>=95)]"
   ]
  },
  {
   "cell_type": "code",
   "execution_count": null,
   "id": "f6941105",
   "metadata": {},
   "outputs": [],
   "source": []
  },
  {
   "cell_type": "markdown",
   "id": "2f87784d",
   "metadata": {},
   "source": [
    "## Correlation"
   ]
  },
  {
   "cell_type": "code",
   "execution_count": 27,
   "id": "8cfa2a70",
   "metadata": {},
   "outputs": [],
   "source": [
    "cor = df.corr()\n",
    "cor"
   ]
  },
  {
   "cell_type": "code",
   "execution_count": 28,
   "id": "8bc107f7",
   "metadata": {},
   "outputs": [],
   "source": [
    "import seaborn as sns\n",
    "from matplotlib.pyplot import figure"
   ]
  },
  {
   "cell_type": "code",
   "execution_count": 29,
   "id": "c54f08e3",
   "metadata": {
    "scrolled": false
   },
   "outputs": [],
   "source": [
    "fig = plt.figure(figsize=(10, 10))\n",
    "sns.heatmap(cor.abs(), annot=True, cmap=plt.cm.CMRmap_r)"
   ]
  },
  {
   "cell_type": "code",
   "execution_count": 30,
   "id": "58c4422f",
   "metadata": {},
   "outputs": [],
   "source": [
    "df.shape"
   ]
  },
  {
   "cell_type": "code",
   "execution_count": 31,
   "id": "3273c3eb",
   "metadata": {},
   "outputs": [],
   "source": [
    "# with the following function we can select highly correlated features\n",
    "# it will remove the first feature that is correlated with anything other feature\n",
    "\n",
    "def correlation(dataset, threshold):\n",
    "    col_corr = set()  # Set of all the names of correlated columns\n",
    "    corr_matrix = dataset.corr()\n",
    "    for i in range(len(corr_matrix.columns)):\n",
    "        for j in range(i):\n",
    "            if abs(corr_matrix.iloc[i, j]) > threshold: # we are interested in absolute coeff value\n",
    "                colname = corr_matrix.columns[i]  # getting the name of column\n",
    "                col_corr.add(colname)\n",
    "    return col_corr"
   ]
  },
  {
   "cell_type": "markdown",
   "id": "d43a6168",
   "metadata": {},
   "source": [
    "## Model Tranning"
   ]
  },
  {
   "cell_type": "code",
   "execution_count": 32,
   "id": "aa7bd382",
   "metadata": {},
   "outputs": [],
   "source": [
    "df.columns"
   ]
  },
  {
   "cell_type": "code",
   "execution_count": 33,
   "id": "86160491",
   "metadata": {},
   "outputs": [],
   "source": [
    "df_class = df.copy()\n",
    "x = df_class.iloc[:,0:-1].values\n",
    "y = df_class.iloc[:,-1].values"
   ]
  },
  {
   "cell_type": "code",
   "execution_count": 34,
   "id": "e86e2457",
   "metadata": {},
   "outputs": [],
   "source": [
    "from sklearn.model_selection import train_test_split\n",
    "x_train,x_test,y_train,y_test=train_test_split(x,y,test_size=0.18,random_state=0)"
   ]
  },
  {
   "cell_type": "code",
   "execution_count": 35,
   "id": "bd27540f",
   "metadata": {},
   "outputs": [],
   "source": [
    "from sklearn.preprocessing import StandardScaler"
   ]
  },
  {
   "cell_type": "code",
   "execution_count": 36,
   "id": "35636034",
   "metadata": {},
   "outputs": [],
   "source": [
    "sc= StandardScaler()\n",
    "x_train = sc.fit_transform(x_train)\n",
    "x_test = sc.transform(x_test)\n",
    "import pickle\n",
    "pickle.dump(scaler,open('scaling.pkl','wb'))"
   ]
  },
  {
   "cell_type": "markdown",
   "id": "b1bbf19a",
   "metadata": {},
   "source": [
    "### Logistic Regression "
   ]
  },
  {
   "cell_type": "code",
   "execution_count": null,
   "id": "fde4e367",
   "metadata": {},
   "outputs": [],
   "source": [
    "from sklearn.linear_model import LogisticRegression\n",
    "from sklearn.metrics import accuracy_score, confusion_matrix, classification_report"
   ]
  },
  {
   "cell_type": "code",
   "execution_count": null,
   "id": "4f90ccb0",
   "metadata": {},
   "outputs": [],
   "source": [
    "lr = LogisticRegression()\n",
    "lr.fit(x_train,y_train)"
   ]
  },
  {
   "cell_type": "code",
   "execution_count": null,
   "id": "908e8439",
   "metadata": {},
   "outputs": [],
   "source": [
    "y1 = lr.predict(x_test)"
   ]
  },
  {
   "cell_type": "code",
   "execution_count": null,
   "id": "2022f1dc",
   "metadata": {},
   "outputs": [],
   "source": [
    "y1"
   ]
  },
  {
   "cell_type": "code",
   "execution_count": null,
   "id": "77b27213",
   "metadata": {},
   "outputs": [],
   "source": [
    "s1 = accuracy_score(y_test,y1)"
   ]
  },
  {
   "cell_type": "code",
   "execution_count": null,
   "id": "709d21f1",
   "metadata": {},
   "outputs": [],
   "source": [
    "s1"
   ]
  },
  {
   "cell_type": "code",
   "execution_count": null,
   "id": "3ff036e7",
   "metadata": {},
   "outputs": [],
   "source": [
    "confusion_matrix(y_test,y1)"
   ]
  },
  {
   "cell_type": "code",
   "execution_count": null,
   "id": "cdc66ec3",
   "metadata": {},
   "outputs": [],
   "source": [
    "print(classification_report(y_test,y1))"
   ]
  },
  {
   "cell_type": "markdown",
   "id": "21ea42a7",
   "metadata": {},
   "source": [
    "### KNN Classifier"
   ]
  },
  {
   "cell_type": "code",
   "execution_count": null,
   "id": "163951c9",
   "metadata": {},
   "outputs": [],
   "source": [
    "from sklearn.neighbors import KNeighborsClassifier\n",
    "knn=KNeighborsClassifier()\n",
    "knn.fit(x_train,y_train)\n",
    "y2 = knn.predict(x_test)"
   ]
  },
  {
   "cell_type": "code",
   "execution_count": null,
   "id": "bc2710a4",
   "metadata": {},
   "outputs": [],
   "source": [
    "y2"
   ]
  },
  {
   "cell_type": "code",
   "execution_count": null,
   "id": "09f0dadf",
   "metadata": {},
   "outputs": [],
   "source": [
    "s2 = accuracy_score(y_test,y2)\n",
    "s2"
   ]
  },
  {
   "cell_type": "code",
   "execution_count": null,
   "id": "0acb89ab",
   "metadata": {},
   "outputs": [],
   "source": [
    "confusion_matrix(y_test,y2)"
   ]
  },
  {
   "cell_type": "code",
   "execution_count": null,
   "id": "591907a6",
   "metadata": {},
   "outputs": [],
   "source": [
    "print(classification_report(y_test,y2))"
   ]
  },
  {
   "cell_type": "markdown",
   "id": "2f2176a4",
   "metadata": {},
   "source": [
    "### SVM Classifier"
   ]
  },
  {
   "cell_type": "code",
   "execution_count": null,
   "id": "70d138b1",
   "metadata": {},
   "outputs": [],
   "source": [
    "# SVM\n",
    "from sklearn import svm\n",
    "svm = svm.SVC(kernel=\"linear\")\n",
    "svm.fit(x_train,y_train)\n",
    "y3 = svm.predict(x_test)"
   ]
  },
  {
   "cell_type": "code",
   "execution_count": null,
   "id": "c197f4c3",
   "metadata": {},
   "outputs": [],
   "source": [
    "y3"
   ]
  },
  {
   "cell_type": "code",
   "execution_count": null,
   "id": "23949a2d",
   "metadata": {},
   "outputs": [],
   "source": [
    "s3 = accuracy_score(y_test,y3)\n",
    "s3"
   ]
  },
  {
   "cell_type": "code",
   "execution_count": null,
   "id": "c4f72752",
   "metadata": {},
   "outputs": [],
   "source": [
    "confusion_matrix(y_test,y3)"
   ]
  },
  {
   "cell_type": "code",
   "execution_count": null,
   "id": "ed2fb311",
   "metadata": {},
   "outputs": [],
   "source": [
    "print(classification_report(y_test,y3))"
   ]
  },
  {
   "cell_type": "markdown",
   "id": "5a930445",
   "metadata": {},
   "source": [
    "### DecisionTree Classifier"
   ]
  },
  {
   "cell_type": "code",
   "execution_count": null,
   "id": "a7d1d964",
   "metadata": {},
   "outputs": [],
   "source": [
    "# DecisionTree Classifier\n",
    "from sklearn.tree import DecisionTreeClassifier\n",
    "dt = DecisionTreeClassifier()\n",
    "dt.fit(x_train,y_train)\n",
    "y4 = dt.predict(x_test)"
   ]
  },
  {
   "cell_type": "code",
   "execution_count": null,
   "id": "8391a369",
   "metadata": {},
   "outputs": [],
   "source": [
    "y4"
   ]
  },
  {
   "cell_type": "code",
   "execution_count": null,
   "id": "a0d53bd2",
   "metadata": {},
   "outputs": [],
   "source": [
    "s4 = accuracy_score(y_test,y4)\n",
    "s4"
   ]
  },
  {
   "cell_type": "code",
   "execution_count": null,
   "id": "03e18289",
   "metadata": {},
   "outputs": [],
   "source": [
    "confusion_matrix(y_test,y4)"
   ]
  },
  {
   "cell_type": "code",
   "execution_count": null,
   "id": "4c687e02",
   "metadata": {},
   "outputs": [],
   "source": [
    "print(classification_report(y_test,y4))"
   ]
  },
  {
   "cell_type": "markdown",
   "id": "95086082",
   "metadata": {},
   "source": [
    "### RandomForest Classifier"
   ]
  },
  {
   "cell_type": "code",
   "execution_count": null,
   "id": "07b870e8",
   "metadata": {},
   "outputs": [],
   "source": [
    "# RandomForest Classifier\n",
    "from sklearn.ensemble import RandomForestClassifier\n",
    "rf=RandomForestClassifier()\n",
    "rf.fit(x_train,y_train)\n",
    "y5 = rf.predict(x_test)"
   ]
  },
  {
   "cell_type": "code",
   "execution_count": null,
   "id": "5ff496d8",
   "metadata": {},
   "outputs": [],
   "source": [
    "y5"
   ]
  },
  {
   "cell_type": "code",
   "execution_count": null,
   "id": "6ceb385b",
   "metadata": {},
   "outputs": [],
   "source": [
    "s5 = accuracy_score(y_test,y5)\n",
    "s5"
   ]
  },
  {
   "cell_type": "code",
   "execution_count": null,
   "id": "e8ee61ac",
   "metadata": {},
   "outputs": [],
   "source": [
    "confusion_matrix(y_test,y5)"
   ]
  },
  {
   "cell_type": "code",
   "execution_count": null,
   "id": "e8ed61cc",
   "metadata": {},
   "outputs": [],
   "source": [
    "print(classification_report(y_test,y5))"
   ]
  },
  {
   "cell_type": "markdown",
   "id": "ce3d525b",
   "metadata": {},
   "source": [
    "### Gradient Boosting Classifier"
   ]
  },
  {
   "cell_type": "code",
   "execution_count": null,
   "id": "29c65728",
   "metadata": {},
   "outputs": [],
   "source": [
    "# Gradient Boosting Classifier\n",
    "from sklearn.ensemble import GradientBoostingClassifier\n",
    "gb=GradientBoostingClassifier()\n",
    "gb.fit(x_train,y_train)\n",
    "y6 = gb.predict(x_test)"
   ]
  },
  {
   "cell_type": "code",
   "execution_count": null,
   "id": "296d732c",
   "metadata": {},
   "outputs": [],
   "source": [
    "y6"
   ]
  },
  {
   "cell_type": "code",
   "execution_count": null,
   "id": "a10380a3",
   "metadata": {},
   "outputs": [],
   "source": [
    "s6 = accuracy_score(y_test,y6)\n",
    "s6"
   ]
  },
  {
   "cell_type": "code",
   "execution_count": null,
   "id": "b6135c60",
   "metadata": {},
   "outputs": [],
   "source": [
    "confusion_matrix(y_test,y5)"
   ]
  },
  {
   "cell_type": "code",
   "execution_count": null,
   "id": "84ed4d54",
   "metadata": {},
   "outputs": [],
   "source": [
    "print(classification_report(y_test,y5))"
   ]
  },
  {
   "cell_type": "code",
   "execution_count": null,
   "id": "2343259d",
   "metadata": {},
   "outputs": [],
   "source": [
    "final_data = pd.DataFrame({'Models':['LogisticRegression','KNN','SVM','DecisionTreeClassifier',\n",
    "                                     'RandomForestClassifier','GradientBoostingClassifier'],\n",
    "            'ACC':[s1*100,\n",
    "                  s2*100,\n",
    "                  s3*100,\n",
    "                  s4*100,\n",
    "                  s5*100,s6*100]})"
   ]
  },
  {
   "cell_type": "code",
   "execution_count": null,
   "id": "ba1c7d7c",
   "metadata": {},
   "outputs": [],
   "source": [
    "final_data"
   ]
  },
  {
   "cell_type": "code",
   "execution_count": null,
   "id": "a607756c",
   "metadata": {},
   "outputs": [],
   "source": [
    "final_data['Models']"
   ]
  },
  {
   "cell_type": "code",
   "execution_count": null,
   "id": "422f6475",
   "metadata": {},
   "outputs": [],
   "source": [
    "import seaborn as sns"
   ]
  },
  {
   "cell_type": "code",
   "execution_count": null,
   "id": "d7adf421",
   "metadata": {},
   "outputs": [],
   "source": [
    "sns.barplot(x=final_data['Models'], y = final_data['ACC'], alpha=0.8)\n",
    "plt.xticks(rotation = 75, fontsize = 13)"
   ]
  },
  {
   "cell_type": "code",
   "execution_count": null,
   "id": "f803f560",
   "metadata": {},
   "outputs": [],
   "source": [
    "df.info()"
   ]
  },
  {
   "cell_type": "markdown",
   "id": "f9a3079c",
   "metadata": {},
   "source": [
    "##  Model Saving"
   ]
  },
  {
   "cell_type": "code",
   "execution_count": null,
   "id": "723cbfb8",
   "metadata": {},
   "outputs": [],
   "source": [
    "## Standardize the dataset\n",
    "from sklearn.preprocessing import StandardScaler\n",
    "scaler=StandardScaler()"
   ]
  },
  {
   "cell_type": "code",
   "execution_count": null,
   "id": "2f83a054",
   "metadata": {},
   "outputs": [],
   "source": [
    "new_data = pd.DataFrame({\n",
    "    'gender':0,\n",
    "    'ssc_p':67.0,\n",
    "    'hsc_p':91.0,\n",
    "    'hsc_s':1,\n",
    "    'degree_p':58.0,\n",
    "    'degree_t':2,\n",
    "    'workex':0,\n",
    "    'etest_p':55.0,\n",
    "     'specialisation':1,\n",
    "    'mba_p':58.8,   \n",
    "},index=[0])"
   ]
  },
  {
   "cell_type": "code",
   "execution_count": null,
   "id": "c56eafcb",
   "metadata": {},
   "outputs": [],
   "source": [
    "lr= LogisticRegression()\n",
    "lr.fit(x,y,sample_weight=None)"
   ]
  },
  {
   "cell_type": "code",
   "execution_count": null,
   "id": "860ff718",
   "metadata": {},
   "outputs": [],
   "source": [
    "p = lr.predict(new_data)\n",
    "prob=lr.predict_proba(new_data)\n",
    "if p == 1:\n",
    "    print('Placed')\n",
    "    print(f\"You will be placed with probability of {prob[0][1]:.2f}\")\n",
    "else:\n",
    "    print(\"Not-placed\")"
   ]
  },
  {
   "cell_type": "code",
   "execution_count": null,
   "id": "37b9e28a",
   "metadata": {},
   "outputs": [],
   "source": [
    "import pickle"
   ]
  },
  {
   "cell_type": "code",
   "execution_count": null,
   "id": "1b2eef7c",
   "metadata": {},
   "outputs": [],
   "source": [
    "pickle.dump(lr, open('model.pkl','wb'))"
   ]
  },
  {
   "cell_type": "code",
   "execution_count": null,
   "id": "73b10efd",
   "metadata": {},
   "outputs": [],
   "source": [
    "model = pickle.load(open('model.pkl','rb'))"
   ]
  },
  {
   "cell_type": "code",
   "execution_count": null,
   "id": "6b56d380",
   "metadata": {},
   "outputs": [],
   "source": [
    "model.predict(scaler.transform(x.reshape(1,-1)))"
   ]
  },
  {
   "cell_type": "code",
   "execution_count": null,
   "id": "c2b17f72",
   "metadata": {},
   "outputs": [],
   "source": []
  }
 ],
 "metadata": {
  "kernelspec": {
   "display_name": "Python 3 (ipykernel)",
   "language": "python",
   "name": "python3"
  },
  "language_info": {
   "codemirror_mode": {
    "name": "ipython",
    "version": 3
   },
   "file_extension": ".py",
   "mimetype": "text/x-python",
   "name": "python",
   "nbconvert_exporter": "python",
   "pygments_lexer": "ipython3",
   "version": "3.11.3"
  }
 },
 "nbformat": 4,
 "nbformat_minor": 5
}
